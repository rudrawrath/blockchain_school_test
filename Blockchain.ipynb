{
 "cells": [
  {
   "cell_type": "markdown",
   "metadata": {},
   "source": [
    "## Multiplication of 3-sets in array."
   ]
  },
  {
   "cell_type": "code",
   "execution_count": 1,
   "metadata": {},
   "outputs": [
    {
     "name": "stdout",
     "output_type": "stream",
     "text": [
      "Input: [-10, -3, 5, 6, 15, 15, -20, -12, 15, 1, 2, 0]\n",
      "Deduplicate: [0, 1, 2, 5, 6, -20, 15, -12, -10, -3]\n",
      "Sorted: [-20, -12, -10, -3, 0, 1, 2, 5, 6, 15]\n",
      "Last 3: [5, 6, 15]\n",
      "Result: 450\n"
     ]
    }
   ],
   "source": [
    "from operator import mul\n",
    "from functools import reduce\n",
    "\n",
    "def deduplicate(values=[]):\n",
    "    return list(set(values))\n",
    "\n",
    "def insertionSort(values=[]):\n",
    "    for idx in range(1, len(values)):\n",
    "        currentValue = values[idx]\n",
    "        position = idx\n",
    "\n",
    "        while position > 0 and values[position - 1] > currentValue:\n",
    "            values[position] = values[position - 1]\n",
    "            position = position - 1\n",
    "\n",
    "        values[position] = currentValue\n",
    "    \n",
    "    return values\n",
    "        \n",
    "def pipe(values):\n",
    "    if len(values) < 3:\n",
    "        return \"Bad input. Number of elements need to be > 3\"\n",
    "    else:\n",
    "        print(\"Input:\", values)\n",
    "        values = deduplicate(values)\n",
    "        print(\"Deduplicate:\", values)\n",
    "        values = insertionSort(values)\n",
    "        print(\"Sorted:\", values)\n",
    "        values = values[-3:]\n",
    "        print(\"Last 3:\", values)\n",
    "        return reduce(mul, values, 1)\n",
    "    \n",
    "values = [-10, -3, 5, 6, 15, 15, -20, -12, 15, 1, 2, 0]\n",
    "print(\"Result:\", pipe(values))"
   ]
  },
  {
   "attachments": {},
   "cell_type": "markdown",
   "metadata": {},
   "source": [
    "## Binary Tree"
   ]
  },
  {
   "cell_type": "code",
   "execution_count": 2,
   "metadata": {},
   "outputs": [
    {
     "name": "stdout",
     "output_type": "stream",
     "text": [
      "Complete tree:\n",
      "2\n",
      "4\n",
      "5\n",
      "5\n",
      "6\n",
      "7\n",
      "9\n",
      "11\n",
      "\n",
      "Sorted left subtree including root:\n",
      "2\n",
      "4\n",
      "5\n",
      "5\n",
      "6\n",
      "7\n",
      "\n",
      "Sorted right subtree including root:\n",
      "9\n",
      "11\n",
      "7\n",
      "\n"
     ]
    }
   ],
   "source": [
    "class BinaryTreeNode:\n",
    "    def __init__(self, value):\n",
    "        self.left = None\n",
    "        self.right = None\n",
    "        self.value = value\n",
    "        \n",
    "    def setValue(self, value): self.value = value\n",
    "        \n",
    "    def getValue(self): return self.value\n",
    "    \n",
    "    def insertLeft(self, node):\n",
    "        if self.left == None:\n",
    "            self.left = BinaryTreeNode(node)\n",
    "        else:\n",
    "            tree = BinaryTreeNode(node)\n",
    "            tree.left = self.left\n",
    "            self.left = tree\n",
    "            \n",
    "    def getLeft(self): return self.left\n",
    "    \n",
    "    def insertRight(self, node):\n",
    "        if self.right == None:\n",
    "            self.right = BinaryTreeNode(node)\n",
    "        else:\n",
    "            tree = BinaryTreeNode(node)\n",
    "            tree.right = self.right\n",
    "            self.right = tree\n",
    "            \n",
    "    def getRight(self): return self.right\n",
    "\n",
    "class BST:\n",
    "    def __init__(self):\n",
    "        self.root = None;\n",
    "        \n",
    "    def getRoot(self): return self.root\n",
    "    \n",
    "    def insert(self, node, value):\n",
    "        if node is None:\n",
    "            self.root = BinaryTreeNode(value);\n",
    "        else:\n",
    "            if value < node.value:\n",
    "                if node.left is None:\n",
    "                    node.left = BinaryTreeNode(value)\n",
    "                else:\n",
    "                    self.insert(node.left, value);\n",
    "            else:\n",
    "                if node.right is None:\n",
    "                    node.right = BinaryTreeNode(value)\n",
    "                else:\n",
    "                    self.insert(node.right, value);\n",
    "        \n",
    "def showTree(node):\n",
    "    if node is None: return\n",
    "    \n",
    "    showTree(node.getLeft())\n",
    "    print(node.getValue())\n",
    "    showTree(node.getRight())\n",
    "    \n",
    "def showLeft(node):\n",
    "    if node is None: return\n",
    "    \n",
    "    showTree(node.getLeft())\n",
    "    print(node.getValue())\n",
    "    \n",
    "def showRight(node):\n",
    "    if node is None: return\n",
    "    \n",
    "    showTree(node.getRight())\n",
    "    print(node.getValue())\n",
    "    \n",
    "tree = BST()\n",
    "tree.insert(tree.getRoot(), 7)\n",
    "tree.insert(tree.getRoot(), 2)\n",
    "tree.insert(tree.getRoot(), 6)\n",
    "tree.insert(tree.getRoot(), 5)\n",
    "tree.insert(tree.getRoot(), 11)\n",
    "tree.insert(tree.getRoot(), 5)\n",
    "tree.insert(tree.getRoot(), 9)\n",
    "tree.insert(tree.getRoot(), 4)\n",
    "    \n",
    "print(\"Complete tree:\")\n",
    "showTree(tree.getRoot())\n",
    "print()\n",
    "\n",
    "print(\"Sorted left subtree including root:\")\n",
    "showLeft(tree.getRoot())\n",
    "print()\n",
    "\n",
    "print(\"Sorted right subtree including root:\")\n",
    "showRight(tree.getRoot())\n",
    "print()"
   ]
  },
  {
   "cell_type": "markdown",
   "metadata": {},
   "source": [
    "## List of list of filenames"
   ]
  },
  {
   "cell_type": "code",
   "execution_count": 3,
   "metadata": {},
   "outputs": [
    {
     "name": "stdout",
     "output_type": "stream",
     "text": [
      "0. Duplicate '/Users/Blockchain/file_A' found, original at '/Users/Blockchain/Documents/copy_A'\n",
      "1. Duplicate '/tmp/file_B' found, original at '/Users/Blockchain/copy_B'\n",
      "2. Duplicate '/opt/.file_C.mp4' found, original at '/Users/Blockchain/Music/copy_C.mp3'\n",
      "3. Can't find original file for '/bin/file_not_found.txt'\n"
     ]
    }
   ],
   "source": [
    "names_duplicates = [\"/Users/Blockchain/file_A\", \"/tmp/file_B\", \"/opt/.file_C.mp4\", \"/bin/file_not_found.txt\"]\n",
    "names_originals = [\"/Users/Blockchain/Documents/copy_A\", \"/Users/Blockchain/copy_B\", \n",
    "                   \"/Users/Blockchain/Music/copy_C.mp3\"]\n",
    "result = []\n",
    "\n",
    "for idx in range(max((len(names_duplicates), len(names_originals)))):\n",
    "    while True:\n",
    "        try:\n",
    "            element = (names_duplicates[idx], names_originals[idx])\n",
    "        except IndexError:\n",
    "            if len(names_duplicates) > len(names_originals):\n",
    "                names_originals.append(None)\n",
    "                element = (names_duplicates[idx], names_originals[idx])\n",
    "            elif len(names_duplicates) < len(names_originals):\n",
    "                names_duplicates.append(None)\n",
    "                element = (names_duplicates[idx], names_originals[idx])\n",
    "                \n",
    "            continue\n",
    "            \n",
    "        result.append(element)\n",
    "        break\n",
    "\n",
    "for idx, (copy, original) in enumerate(result):\n",
    "    if original is None:\n",
    "        print(\"{}. Can't find original file for '{}'\".format(idx, copy))\n",
    "    else:\n",
    "        print(\"{}. Duplicate '{}' found, original at '{}'\".format(idx, copy, original))"
   ]
  },
  {
   "cell_type": "code",
   "execution_count": null,
   "metadata": {},
   "outputs": [],
   "source": []
  }
 ],
 "metadata": {
  "kernelspec": {
   "display_name": "Python 3",
   "language": "python",
   "name": "python3"
  },
  "language_info": {
   "codemirror_mode": {
    "name": "ipython",
    "version": 3
   },
   "file_extension": ".py",
   "mimetype": "text/x-python",
   "name": "python",
   "nbconvert_exporter": "python",
   "pygments_lexer": "ipython3",
   "version": "3.5.2"
  },
  "widgets": {
   "state": {},
   "version": "1.1.2"
  }
 },
 "nbformat": 4,
 "nbformat_minor": 2
}
